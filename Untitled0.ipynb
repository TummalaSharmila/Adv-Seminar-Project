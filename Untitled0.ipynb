{
  "nbformat": 4,
  "nbformat_minor": 0,
  "metadata": {
    "colab": {
      "provenance": [],
      "authorship_tag": "ABX9TyOqF8KugnTqO0iGjHTAaDB4",
      "include_colab_link": true
    },
    "kernelspec": {
      "name": "python3",
      "display_name": "Python 3"
    },
    "language_info": {
      "name": "python"
    }
  },
  "cells": [
    {
      "cell_type": "markdown",
      "metadata": {
        "id": "view-in-github",
        "colab_type": "text"
      },
      "source": [
        "<a href=\"https://colab.research.google.com/github/TummalaSharmila/Adv-Seminar-Project/blob/main/Untitled0.ipynb\" target=\"_parent\"><img src=\"https://colab.research.google.com/assets/colab-badge.svg\" alt=\"Open In Colab\"/></a>"
      ]
    },
    {
      "cell_type": "code",
      "execution_count": null,
      "metadata": {
        "id": "HnCsdIZh0_df"
      },
      "outputs": [],
      "source": [
        "import pandas as pd\n",
        "\n",
        "# Load a manageable sample to avoid memory issues\n",
        "df = pd.read_csv(\"Dataset.csv\", nrows=10000, low_memory=False)\n",
        "\n",
        "print(\"Sample loaded. Shape:\", df.shape)\n",
        "df.head()\n"
      ]
    },
    {
      "cell_type": "code",
      "source": [
        "# Drop columns with more than 30% missing data\n",
        "df = df.dropna(axis=1, thresh=int(0.7 * len(df)))\n",
        "\n",
        "# Drop rows with more than 30% missing data\n",
        "df = df.dropna(thresh=int(0.7 * df.shape[1]))\n",
        "\n",
        "print(\"After cleaning missing values. Shape:\", df.shape)\n"
      ],
      "metadata": {
        "id": "QgEzZcAP1Dwl"
      },
      "execution_count": null,
      "outputs": []
    },
    {
      "cell_type": "code",
      "source": [
        "from sklearn.preprocessing import LabelEncoder\n",
        "\n",
        "label_encoders = {}\n",
        "\n",
        "for col in df.select_dtypes(include='object'):\n",
        "    df[col] = df[col].astype(str)\n",
        "    le = LabelEncoder()\n",
        "    df[col] = le.fit_transform(df[col])\n",
        "    label_encoders[col] = le\n",
        "\n",
        "print(\"Categorical encoding complete.\")\n"
      ],
      "metadata": {
        "id": "kupK_vOT1G1Q"
      },
      "execution_count": null,
      "outputs": []
    },
    {
      "cell_type": "code",
      "source": [
        "import numpy as np\n",
        "\n",
        "for col in df.select_dtypes(include=[np.number]).columns:\n",
        "    median_val = df[col].median()\n",
        "    df[col] = df[col].fillna(median_val)\n",
        "\n",
        "print(\"Filled missing numeric values with column medians.\")\n"
      ],
      "metadata": {
        "id": "Xjf7m7V41Hr2"
      },
      "execution_count": null,
      "outputs": []
    },
    {
      "cell_type": "code",
      "source": [
        "from sklearn.preprocessing import StandardScaler\n",
        "\n",
        "# Drop targets from features\n",
        "X = df.drop(columns=['OS', 'OS_time'], errors='ignore')\n",
        "y_class = df['OS']\n",
        "y_time = df['OS_time']\n",
        "\n",
        "# Normalize numeric features\n",
        "scaler = StandardScaler()\n",
        "X_scaled = scaler.fit_transform(X)\n",
        "\n",
        "print(\"Feature scaling complete.\")\n"
      ],
      "metadata": {
        "id": "-ikCZiMV1LL0"
      },
      "execution_count": null,
      "outputs": []
    },
    {
      "cell_type": "code",
      "source": [
        "from sklearn.model_selection import train_test_split\n",
        "\n",
        "X_train, X_test, y_train, y_test = train_test_split(X_scaled, y_class, test_size=0.2, random_state=42)\n",
        "print(\"Train/test split complete.\")\n"
      ],
      "metadata": {
        "id": "Q57Mgqgz1L3k"
      },
      "execution_count": null,
      "outputs": []
    },
    {
      "cell_type": "code",
      "source": [
        "from sklearn.ensemble import RandomForestClassifier\n",
        "from sklearn.svm import SVC\n",
        "from xgboost import XGBClassifier\n",
        "\n",
        "# Random Forest\n",
        "rf = RandomForestClassifier()\n",
        "rf.fit(X_train, y_train)\n",
        "pred_rf = rf.predict(X_test)\n",
        "\n",
        "# SVM\n",
        "svm = SVC(probability=True)\n",
        "svm.fit(X_train, y_train)\n",
        "pred_svm = svm.predict(X_test)\n",
        "\n",
        "# XGBoost\n",
        "xgb = XGBClassifier(use_label_encoder=False, eval_metric='logloss')\n",
        "xgb.fit(X_train, y_train)\n",
        "pred_xgb = xgb.predict(X_test)\n",
        "\n"
      ],
      "metadata": {
        "id": "aANHzDa91NsP"
      },
      "execution_count": null,
      "outputs": []
    },
    {
      "cell_type": "code",
      "source": [
        "from sklearn.metrics import accuracy_score, classification_report\n",
        "\n",
        "models = {\n",
        "    \"Random Forest\": (rf, pred_rf),\n",
        "    \"SVM\": (svm, pred_svm),\n",
        "    \"XGBoost\": (xgb, pred_xgb),\n",
        "}\n",
        "\n",
        "best_model = None\n",
        "best_score = 0\n",
        "\n",
        "for name, (model, pred) in models.items():\n",
        "    acc = accuracy_score(y_test, pred)\n",
        "    print(f\"{name} Accuracy: {acc:.4f}\")\n",
        "    print(classification_report(y_test, pred))\n",
        "    if acc > best_score:\n",
        "        best_model = model\n",
        "        best_score = acc\n",
        "\n",
        "print(f\"\\n✅ Best model selected: {type(best_model).__name__} with accuracy {best_score:.4f}\")\n"
      ],
      "metadata": {
        "id": "E490Wrmb1quz"
      },
      "execution_count": null,
      "outputs": []
    },
    {
      "cell_type": "code",
      "source": [
        "def predict_patient_outcome(new_data: dict):\n",
        "    import pandas as pd\n",
        "\n",
        "    patient_df = pd.DataFrame([new_data])\n",
        "\n",
        "    # Encode\n",
        "    for col, le in label_encoders.items():\n",
        "        if col in patient_df:\n",
        "            patient_df[col] = le.transform([str(patient_df[col][0])])\n",
        "\n",
        "    # Fill missing columns\n",
        "    for col in X.columns:\n",
        "        if col not in patient_df:\n",
        "            patient_df[col] = X[col].median()\n",
        "    patient_df = patient_df[X.columns]  # Reorder\n",
        "\n",
        "    # Scale\n",
        "    patient_scaled = scaler.transform(patient_df)\n",
        "\n",
        "    # Predict\n",
        "    pred = xgb.predict(patient_scaled)\n",
        "    proba = xgb.predict_proba(patient_scaled)[0][pred[0]]\n",
        "\n",
        "    print(\"\\n=== NEW PATIENT PREDICTION ===\")\n",
        "    print(\"Prediction:\", \"Survived\" if pred[0] == 1 else \"Deceased\")\n",
        "    print(f\"Confidence: {proba*100:.2f}%\")\n",
        "\n"
      ],
      "metadata": {
        "id": "7NanXvf01PsW"
      },
      "execution_count": null,
      "outputs": []
    },
    {
      "cell_type": "code",
      "source": [
        "example_patient = {\n",
        "    'age': 62,\n",
        "    'gender': 'female',\n",
        "    'cancer_type_abbreviation': 'BRCA',\n",
        "    'Mutation_Count': 37,\n",
        "    'ENSG00000242268.2': 5.6,\n",
        "    'ENSG00000259041.1': 3.2,\n",
        "    # Add other features as needed based on your dataset\n",
        "}\n",
        "\n",
        "predict_patient_outcome(example_patient)\n"
      ],
      "metadata": {
        "id": "g5xzth3n1SN0"
      },
      "execution_count": null,
      "outputs": []
    }
  ]
}