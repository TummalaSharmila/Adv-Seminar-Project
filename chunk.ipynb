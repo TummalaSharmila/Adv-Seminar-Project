{
  "nbformat": 4,
  "nbformat_minor": 0,
  "metadata": {
    "colab": {
      "provenance": [],
      "mount_file_id": "16AORQgNIvyR3SXop2yFtO7n8_nMKJeT0",
      "authorship_tag": "ABX9TyMteqD9DRaZ+UYlh25Yhmio",
      "include_colab_link": true
    },
    "kernelspec": {
      "name": "python3",
      "display_name": "Python 3"
    },
    "language_info": {
      "name": "python"
    }
  },
  "cells": [
    {
      "cell_type": "markdown",
      "metadata": {
        "id": "view-in-github",
        "colab_type": "text"
      },
      "source": [
        "<a href=\"https://colab.research.google.com/github/TummalaSharmila/Adv-Seminar-Project/blob/main/chunk.ipynb\" target=\"_parent\"><img src=\"https://colab.research.google.com/assets/colab-badge.svg\" alt=\"Open In Colab\"/></a>"
      ]
    },
    {
      "cell_type": "code",
      "source": [
        "import pandas as pd\n",
        "import numpy as np\n",
        "from sklearn.preprocessing import LabelEncoder, StandardScaler\n",
        "from sklearn.model_selection import train_test_split\n",
        "from sklearn.ensemble import RandomForestClassifier\n",
        "from sklearn.svm import SVC\n",
        "from xgboost import XGBClassifier\n",
        "from sklearn.metrics import accuracy_score, classification_report\n",
        "\n",
        "# Load data\n",
        "df = pd.read_csv(\"/content/drive/MyDrive/Colab Notebooks/Copy of Dataset.csv\", nrows=10000, low_memory=False)\n",
        "print(\"Sample loaded. Shape:\", df.shape)\n",
        "\n",
        "# Drop rows with >30% missing values (keep columns)\n",
        "df = df.dropna(thresh=int(0.7 * df.shape[1]))\n",
        "print(\"After dropping incomplete rows. Shape:\", df.shape)\n",
        "\n"
      ],
      "metadata": {
        "id": "T2yZekqI7dSl"
      },
      "execution_count": null,
      "outputs": []
    },
    {
      "cell_type": "code",
      "source": [
        "# --- BLOCK BREAK ---\n",
        "\n",
        "# Encode categorical columns\n",
        "label_encoders = {}\n",
        "for col in df.select_dtypes(include='object'):\n",
        "    df[col] = df[col].astype(str)\n",
        "    le = LabelEncoder()\n",
        "    df[col] = le.fit_transform(df[col])\n",
        "    label_encoders[col] = le\n",
        "print(\"Categorical encoding complete.\")\n",
        "\n",
        "# Fill missing numeric columns with medians\n",
        "for col in df.select_dtypes(include=[np.number]).columns:\n",
        "    df[col] = df[col].fillna(df[col].median())\n",
        "print(\"Missing values filled.\")\n",
        "\n"
      ],
      "metadata": {
        "id": "GsMev5xH7iOg"
      },
      "execution_count": null,
      "outputs": []
    },
    {
      "cell_type": "code",
      "source": [
        "# --- BLOCK BREAK ---\n",
        "\n",
        "# Feature-target split\n",
        "X = df.drop(columns=['OS', 'OS_time'], errors='ignore')\n",
        "y_class = df['OS']\n",
        "y_time = df.get('OS_time')  # won't raise error if not present\n",
        "\n",
        "# Scale features\n",
        "scaler = StandardScaler()\n",
        "X_scaled = scaler.fit_transform(X)\n",
        "print(\"Feature scaling complete.\")\n",
        "\n",
        "# Train/test split\n",
        "X_train, X_test, y_train, y_test = train_test_split(X_scaled, y_class, test_size=0.2, random_state=42)\n",
        "print(\"Train/test split complete.\")\n",
        "\n"
      ],
      "metadata": {
        "id": "dLv7Ll-X7mdU"
      },
      "execution_count": null,
      "outputs": []
    },
    {
      "cell_type": "code",
      "source": [
        "# --- BLOCK BREAK ---\n",
        "\n",
        "# Train models\n",
        "rf = RandomForestClassifier()\n",
        "rf.fit(X_train, y_train)\n",
        "pred_rf = rf.predict(X_test)\n",
        "\n",
        "svm = SVC(probability=True)\n",
        "svm.fit(X_train, y_train)\n",
        "pred_svm = svm.predict(X_test)\n",
        "\n",
        "xgb = XGBClassifier(use_label_encoder=False, eval_metric='logloss')\n",
        "xgb.fit(X_train, y_train)\n",
        "pred_xgb = xgb.predict(X_test)\n",
        "\n"
      ],
      "metadata": {
        "id": "3aGSP03y7sR-"
      },
      "execution_count": null,
      "outputs": []
    },
    {
      "cell_type": "code",
      "source": [
        "# --- BLOCK BREAK ---\n",
        "\n",
        "# Evaluate and select best model\n",
        "models = {\n",
        "    \"Random Forest\": (rf, pred_rf),\n",
        "    \"SVM\": (svm, pred_svm),\n",
        "    \"XGBoost\": (xgb, pred_xgb),\n",
        "}\n",
        "\n",
        "best_model = None\n",
        "best_score = 0\n",
        "for name, (model, pred) in models.items():\n",
        "    acc = accuracy_score(y_test, pred)\n",
        "    print(f\"{name} Accuracy: {acc:.4f}\")\n",
        "    print(classification_report(y_test, pred))\n",
        "    if acc > best_score:\n",
        "        best_model = model\n",
        "        best_score = acc\n",
        "\n",
        "print(f\"\\n✅ Best model selected: {type(best_model).__name__} with accuracy {best_score:.4f}\")\n",
        "\n"
      ],
      "metadata": {
        "id": "QHW5K1DJ7vpl"
      },
      "execution_count": null,
      "outputs": []
    },
    {
      "cell_type": "code",
      "source": [
        "# --- BLOCK BREAK ---\n",
        "\n",
        "# Prediction function for new patient\n",
        "def predict_patient_outcome(new_data: dict):\n",
        "    patient_df = pd.DataFrame([new_data])\n",
        "\n",
        "    # Encode categoricals\n",
        "    for col, le in label_encoders.items():\n",
        "        if col in patient_df:\n",
        "            patient_df[col] = le.transform([str(patient_df[col][0])])\n",
        "\n",
        "    # Add missing columns\n",
        "    for col in X.columns:\n",
        "        if col not in patient_df:\n",
        "            patient_df[col] = X[col].median()\n",
        "    patient_df = patient_df[X.columns]\n",
        "\n",
        "    # Scale\n",
        "    patient_scaled = scaler.transform(patient_df)\n",
        "\n",
        "    # Predict\n",
        "    pred = best_model.predict(patient_scaled)[0]\n",
        "    proba = best_model.predict_proba(patient_scaled)[0][pred]\n",
        "\n",
        "    print(\"\\n=== NEW PATIENT PREDICTION ===\")\n",
        "    print(\"Prediction:\", \"Survived\" if pred == 1 else \"Deceased\")\n",
        "    print(f\"Confidence: {proba*100:.2f}%\")\n"
      ],
      "metadata": {
        "id": "UMEz2b3j7zOF"
      },
      "execution_count": null,
      "outputs": []
    },
    {
      "cell_type": "code",
      "source": [
        "# --- BLOCK BREAK ---\n",
        "\n",
        "# Example prediction\n",
        "example_patient = {\n",
        "    'age': 60,\n",
        "    'gender': 'female',\n",
        "    'cancer_type_abbreviation': 'BRCA',\n",
        "    'Mutation_Count': 34,\n",
        "    'ENSG00000242268.2': 5.7,\n",
        "    'ENSG00000259041.1': 2.8,\n",
        "    # Add more features as needed\n",
        "}\n",
        "\n",
        "predict_patient_outcome(example_patient)\n"
      ],
      "metadata": {
        "id": "5XNq3W7w72LZ"
      },
      "execution_count": null,
      "outputs": []
    }
  ]
}